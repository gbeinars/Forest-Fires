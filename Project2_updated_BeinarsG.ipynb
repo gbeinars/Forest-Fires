{
 "cells": [
  {
   "cell_type": "markdown",
   "id": "protective-execution",
   "metadata": {},
   "source": [
    "### Load Libraries"
   ]
  },
  {
   "cell_type": "code",
   "execution_count": 133,
   "id": "pleased-cosmetic",
   "metadata": {},
   "outputs": [],
   "source": [
    "import sqlite3\n",
    "import pandas as pd\n",
    "#import geopandas as gpd\n",
    "#from shapely.geometry import Point\n",
    "import matplotlib.pyplot as plt\n",
    "import numpy as np\n",
    "import seaborn as sns\n",
    "import plotly.express as px\n",
    "from sklearn.model_selection import train_test_split # Split data into train and test set\n",
    "from sklearn.ensemble import RandomForestClassifier\n",
    "from sklearn.metrics import accuracy_score, confusion_matrix, classification_report\n",
    "from sklearn.preprocessing import StandardScaler\n",
    "from sklearn.neighbors import KNeighborsClassifier\n",
    "from sklearn.model_selection import KFold\n",
    "from sklearn.ensemble import GradientBoostingClassifier"
   ]
  },
  {
   "cell_type": "markdown",
   "id": "passing-observer",
   "metadata": {},
   "source": [
    "### Load Data\n",
    "\n",
    "Data is stored in sqlite.  Pandas library was used to import as dataframe.\n",
    "Connection is closed after loading to dataframe."
   ]
  },
  {
   "cell_type": "code",
   "execution_count": 115,
   "id": "employed-faculty",
   "metadata": {},
   "outputs": [],
   "source": [
    "conn = sqlite3.connect(r'C:\\Users\\17742\\OneDrive\\Documents\\DSC 680\\Project 2\\FPA_FOD_20170508_1.sqlite')"
   ]
  },
  {
   "cell_type": "code",
   "execution_count": 116,
   "id": "dominican-music",
   "metadata": {},
   "outputs": [],
   "source": [
    "df = pd.read_sql(\"\"\"\n",
    "\n",
    "                SELECT *\n",
    "                from fires \n",
    "                        \n",
    "                 \"\"\", con=conn)"
   ]
  },
  {
   "cell_type": "code",
   "execution_count": 117,
   "id": "descending-merchant",
   "metadata": {},
   "outputs": [
    {
     "data": {
      "text/html": [
       "<div>\n",
       "<style scoped>\n",
       "    .dataframe tbody tr th:only-of-type {\n",
       "        vertical-align: middle;\n",
       "    }\n",
       "\n",
       "    .dataframe tbody tr th {\n",
       "        vertical-align: top;\n",
       "    }\n",
       "\n",
       "    .dataframe thead th {\n",
       "        text-align: right;\n",
       "    }\n",
       "</style>\n",
       "<table border=\"1\" class=\"dataframe\">\n",
       "  <thead>\n",
       "    <tr style=\"text-align: right;\">\n",
       "      <th></th>\n",
       "      <th>OBJECTID</th>\n",
       "      <th>FOD_ID</th>\n",
       "      <th>FPA_ID</th>\n",
       "      <th>SOURCE_SYSTEM_TYPE</th>\n",
       "      <th>SOURCE_SYSTEM</th>\n",
       "      <th>NWCG_REPORTING_AGENCY</th>\n",
       "      <th>NWCG_REPORTING_UNIT_ID</th>\n",
       "      <th>NWCG_REPORTING_UNIT_NAME</th>\n",
       "      <th>SOURCE_REPORTING_UNIT</th>\n",
       "      <th>SOURCE_REPORTING_UNIT_NAME</th>\n",
       "      <th>...</th>\n",
       "      <th>FIRE_SIZE_CLASS</th>\n",
       "      <th>LATITUDE</th>\n",
       "      <th>LONGITUDE</th>\n",
       "      <th>OWNER_CODE</th>\n",
       "      <th>OWNER_DESCR</th>\n",
       "      <th>STATE</th>\n",
       "      <th>COUNTY</th>\n",
       "      <th>FIPS_CODE</th>\n",
       "      <th>FIPS_NAME</th>\n",
       "      <th>Shape</th>\n",
       "    </tr>\n",
       "  </thead>\n",
       "  <tbody>\n",
       "    <tr>\n",
       "      <th>0</th>\n",
       "      <td>1</td>\n",
       "      <td>1</td>\n",
       "      <td>FS-1418826</td>\n",
       "      <td>FED</td>\n",
       "      <td>FS-FIRESTAT</td>\n",
       "      <td>FS</td>\n",
       "      <td>USCAPNF</td>\n",
       "      <td>Plumas National Forest</td>\n",
       "      <td>0511</td>\n",
       "      <td>Plumas National Forest</td>\n",
       "      <td>...</td>\n",
       "      <td>A</td>\n",
       "      <td>40.036944</td>\n",
       "      <td>-121.005833</td>\n",
       "      <td>5.0</td>\n",
       "      <td>USFS</td>\n",
       "      <td>CA</td>\n",
       "      <td>63</td>\n",
       "      <td>063</td>\n",
       "      <td>Plumas</td>\n",
       "      <td>b'\\x00\\x01\\xad\\x10\\x00\\x00\\xe8d\\xc2\\x92_@^\\xc0...</td>\n",
       "    </tr>\n",
       "    <tr>\n",
       "      <th>1</th>\n",
       "      <td>2</td>\n",
       "      <td>2</td>\n",
       "      <td>FS-1418827</td>\n",
       "      <td>FED</td>\n",
       "      <td>FS-FIRESTAT</td>\n",
       "      <td>FS</td>\n",
       "      <td>USCAENF</td>\n",
       "      <td>Eldorado National Forest</td>\n",
       "      <td>0503</td>\n",
       "      <td>Eldorado National Forest</td>\n",
       "      <td>...</td>\n",
       "      <td>A</td>\n",
       "      <td>38.933056</td>\n",
       "      <td>-120.404444</td>\n",
       "      <td>5.0</td>\n",
       "      <td>USFS</td>\n",
       "      <td>CA</td>\n",
       "      <td>61</td>\n",
       "      <td>061</td>\n",
       "      <td>Placer</td>\n",
       "      <td>b'\\x00\\x01\\xad\\x10\\x00\\x00T\\xb6\\xeej\\xe2\\x19^\\...</td>\n",
       "    </tr>\n",
       "    <tr>\n",
       "      <th>2</th>\n",
       "      <td>3</td>\n",
       "      <td>3</td>\n",
       "      <td>FS-1418835</td>\n",
       "      <td>FED</td>\n",
       "      <td>FS-FIRESTAT</td>\n",
       "      <td>FS</td>\n",
       "      <td>USCAENF</td>\n",
       "      <td>Eldorado National Forest</td>\n",
       "      <td>0503</td>\n",
       "      <td>Eldorado National Forest</td>\n",
       "      <td>...</td>\n",
       "      <td>A</td>\n",
       "      <td>38.984167</td>\n",
       "      <td>-120.735556</td>\n",
       "      <td>13.0</td>\n",
       "      <td>STATE OR PRIVATE</td>\n",
       "      <td>CA</td>\n",
       "      <td>17</td>\n",
       "      <td>017</td>\n",
       "      <td>El Dorado</td>\n",
       "      <td>b'\\x00\\x01\\xad\\x10\\x00\\x00\\xd0\\xa5\\xa0W\\x13/^\\...</td>\n",
       "    </tr>\n",
       "    <tr>\n",
       "      <th>3</th>\n",
       "      <td>4</td>\n",
       "      <td>4</td>\n",
       "      <td>FS-1418845</td>\n",
       "      <td>FED</td>\n",
       "      <td>FS-FIRESTAT</td>\n",
       "      <td>FS</td>\n",
       "      <td>USCAENF</td>\n",
       "      <td>Eldorado National Forest</td>\n",
       "      <td>0503</td>\n",
       "      <td>Eldorado National Forest</td>\n",
       "      <td>...</td>\n",
       "      <td>A</td>\n",
       "      <td>38.559167</td>\n",
       "      <td>-119.913333</td>\n",
       "      <td>5.0</td>\n",
       "      <td>USFS</td>\n",
       "      <td>CA</td>\n",
       "      <td>3</td>\n",
       "      <td>003</td>\n",
       "      <td>Alpine</td>\n",
       "      <td>b'\\x00\\x01\\xad\\x10\\x00\\x00\\x94\\xac\\xa3\\rt\\xfa]...</td>\n",
       "    </tr>\n",
       "    <tr>\n",
       "      <th>4</th>\n",
       "      <td>5</td>\n",
       "      <td>5</td>\n",
       "      <td>FS-1418847</td>\n",
       "      <td>FED</td>\n",
       "      <td>FS-FIRESTAT</td>\n",
       "      <td>FS</td>\n",
       "      <td>USCAENF</td>\n",
       "      <td>Eldorado National Forest</td>\n",
       "      <td>0503</td>\n",
       "      <td>Eldorado National Forest</td>\n",
       "      <td>...</td>\n",
       "      <td>A</td>\n",
       "      <td>38.559167</td>\n",
       "      <td>-119.933056</td>\n",
       "      <td>5.0</td>\n",
       "      <td>USFS</td>\n",
       "      <td>CA</td>\n",
       "      <td>3</td>\n",
       "      <td>003</td>\n",
       "      <td>Alpine</td>\n",
       "      <td>b'\\x00\\x01\\xad\\x10\\x00\\x00@\\xe3\\xaa.\\xb7\\xfb]\\...</td>\n",
       "    </tr>\n",
       "  </tbody>\n",
       "</table>\n",
       "<p>5 rows × 39 columns</p>\n",
       "</div>"
      ],
      "text/plain": [
       "   OBJECTID  FOD_ID      FPA_ID SOURCE_SYSTEM_TYPE SOURCE_SYSTEM  \\\n",
       "0         1       1  FS-1418826                FED   FS-FIRESTAT   \n",
       "1         2       2  FS-1418827                FED   FS-FIRESTAT   \n",
       "2         3       3  FS-1418835                FED   FS-FIRESTAT   \n",
       "3         4       4  FS-1418845                FED   FS-FIRESTAT   \n",
       "4         5       5  FS-1418847                FED   FS-FIRESTAT   \n",
       "\n",
       "  NWCG_REPORTING_AGENCY NWCG_REPORTING_UNIT_ID  NWCG_REPORTING_UNIT_NAME  \\\n",
       "0                    FS                USCAPNF    Plumas National Forest   \n",
       "1                    FS                USCAENF  Eldorado National Forest   \n",
       "2                    FS                USCAENF  Eldorado National Forest   \n",
       "3                    FS                USCAENF  Eldorado National Forest   \n",
       "4                    FS                USCAENF  Eldorado National Forest   \n",
       "\n",
       "  SOURCE_REPORTING_UNIT SOURCE_REPORTING_UNIT_NAME  ... FIRE_SIZE_CLASS  \\\n",
       "0                  0511     Plumas National Forest  ...               A   \n",
       "1                  0503   Eldorado National Forest  ...               A   \n",
       "2                  0503   Eldorado National Forest  ...               A   \n",
       "3                  0503   Eldorado National Forest  ...               A   \n",
       "4                  0503   Eldorado National Forest  ...               A   \n",
       "\n",
       "    LATITUDE   LONGITUDE OWNER_CODE       OWNER_DESCR STATE COUNTY FIPS_CODE  \\\n",
       "0  40.036944 -121.005833        5.0              USFS    CA     63       063   \n",
       "1  38.933056 -120.404444        5.0              USFS    CA     61       061   \n",
       "2  38.984167 -120.735556       13.0  STATE OR PRIVATE    CA     17       017   \n",
       "3  38.559167 -119.913333        5.0              USFS    CA      3       003   \n",
       "4  38.559167 -119.933056        5.0              USFS    CA      3       003   \n",
       "\n",
       "   FIPS_NAME                                              Shape  \n",
       "0     Plumas  b'\\x00\\x01\\xad\\x10\\x00\\x00\\xe8d\\xc2\\x92_@^\\xc0...  \n",
       "1     Placer  b'\\x00\\x01\\xad\\x10\\x00\\x00T\\xb6\\xeej\\xe2\\x19^\\...  \n",
       "2  El Dorado  b'\\x00\\x01\\xad\\x10\\x00\\x00\\xd0\\xa5\\xa0W\\x13/^\\...  \n",
       "3     Alpine  b'\\x00\\x01\\xad\\x10\\x00\\x00\\x94\\xac\\xa3\\rt\\xfa]...  \n",
       "4     Alpine  b'\\x00\\x01\\xad\\x10\\x00\\x00@\\xe3\\xaa.\\xb7\\xfb]\\...  \n",
       "\n",
       "[5 rows x 39 columns]"
      ]
     },
     "execution_count": 117,
     "metadata": {},
     "output_type": "execute_result"
    }
   ],
   "source": [
    "df.head()"
   ]
  },
  {
   "cell_type": "code",
   "execution_count": 118,
   "id": "streaming-detection",
   "metadata": {},
   "outputs": [],
   "source": [
    "conn.close()"
   ]
  },
  {
   "cell_type": "markdown",
   "id": "informative-electron",
   "metadata": {},
   "source": [
    "### Explore the Data"
   ]
  },
  {
   "cell_type": "code",
   "execution_count": 119,
   "id": "neither-calibration",
   "metadata": {},
   "outputs": [
    {
     "data": {
      "text/plain": [
       "OBJECTID                        int64\n",
       "FOD_ID                          int64\n",
       "FPA_ID                         object\n",
       "SOURCE_SYSTEM_TYPE             object\n",
       "SOURCE_SYSTEM                  object\n",
       "NWCG_REPORTING_AGENCY          object\n",
       "NWCG_REPORTING_UNIT_ID         object\n",
       "NWCG_REPORTING_UNIT_NAME       object\n",
       "SOURCE_REPORTING_UNIT          object\n",
       "SOURCE_REPORTING_UNIT_NAME     object\n",
       "LOCAL_FIRE_REPORT_ID           object\n",
       "LOCAL_INCIDENT_ID              object\n",
       "FIRE_CODE                      object\n",
       "FIRE_NAME                      object\n",
       "ICS_209_INCIDENT_NUMBER        object\n",
       "ICS_209_NAME                   object\n",
       "MTBS_ID                        object\n",
       "MTBS_FIRE_NAME                 object\n",
       "COMPLEX_NAME                   object\n",
       "FIRE_YEAR                       int64\n",
       "DISCOVERY_DATE                float64\n",
       "DISCOVERY_DOY                   int64\n",
       "DISCOVERY_TIME                 object\n",
       "STAT_CAUSE_CODE               float64\n",
       "STAT_CAUSE_DESCR               object\n",
       "CONT_DATE                     float64\n",
       "CONT_DOY                      float64\n",
       "CONT_TIME                      object\n",
       "FIRE_SIZE                     float64\n",
       "FIRE_SIZE_CLASS                object\n",
       "LATITUDE                      float64\n",
       "LONGITUDE                     float64\n",
       "OWNER_CODE                    float64\n",
       "OWNER_DESCR                    object\n",
       "STATE                          object\n",
       "COUNTY                         object\n",
       "FIPS_CODE                      object\n",
       "FIPS_NAME                      object\n",
       "Shape                          object\n",
       "dtype: object"
      ]
     },
     "execution_count": 119,
     "metadata": {},
     "output_type": "execute_result"
    }
   ],
   "source": [
    "# Check the data type for each variable\n",
    "\n",
    "df.dtypes"
   ]
  },
  {
   "cell_type": "code",
   "execution_count": 120,
   "id": "conscious-mattress",
   "metadata": {},
   "outputs": [
    {
     "name": "stdout",
     "output_type": "stream",
     "text": [
      "OBJECTID has NO missing value(s)\n",
      "FOD_ID has NO missing value(s)\n",
      "FPA_ID has NO missing value(s)\n",
      "SOURCE_SYSTEM_TYPE has NO missing value(s)\n",
      "SOURCE_SYSTEM has NO missing value(s)\n",
      "NWCG_REPORTING_AGENCY has NO missing value(s)\n",
      "NWCG_REPORTING_UNIT_ID has NO missing value(s)\n",
      "NWCG_REPORTING_UNIT_NAME has NO missing value(s)\n",
      "SOURCE_REPORTING_UNIT has NO missing value(s)\n",
      "SOURCE_REPORTING_UNIT_NAME has NO missing value(s)\n",
      "LOCAL_FIRE_REPORT_ID has 1459286 missing value(s)\n",
      "LOCAL_INCIDENT_ID has 820821 missing value(s)\n",
      "FIRE_CODE has 1555636 missing value(s)\n",
      "FIRE_NAME has 957189 missing value(s)\n",
      "ICS_209_INCIDENT_NUMBER has 1854748 missing value(s)\n",
      "ICS_209_NAME has 1854748 missing value(s)\n",
      "MTBS_ID has 1869462 missing value(s)\n",
      "MTBS_FIRE_NAME has 1869462 missing value(s)\n",
      "COMPLEX_NAME has 1875282 missing value(s)\n",
      "FIRE_YEAR has NO missing value(s)\n",
      "DISCOVERY_DATE has NO missing value(s)\n",
      "DISCOVERY_DOY has NO missing value(s)\n",
      "DISCOVERY_TIME has 882638 missing value(s)\n",
      "STAT_CAUSE_CODE has NO missing value(s)\n",
      "STAT_CAUSE_DESCR has NO missing value(s)\n",
      "CONT_DATE has 891531 missing value(s)\n",
      "CONT_DOY has 891531 missing value(s)\n",
      "CONT_TIME has 972173 missing value(s)\n",
      "FIRE_SIZE has NO missing value(s)\n",
      "FIRE_SIZE_CLASS has NO missing value(s)\n",
      "LATITUDE has NO missing value(s)\n",
      "LONGITUDE has NO missing value(s)\n",
      "OWNER_CODE has NO missing value(s)\n",
      "OWNER_DESCR has NO missing value(s)\n",
      "STATE has NO missing value(s)\n",
      "COUNTY has 678148 missing value(s)\n",
      "FIPS_CODE has 678148 missing value(s)\n",
      "FIPS_NAME has 678148 missing value(s)\n",
      "Shape has NO missing value(s)\n"
     ]
    }
   ],
   "source": [
    "# Check for variables that have missing values.\n",
    "\n",
    "for c in df.columns:\n",
    "    missing = df[c].isnull().sum()\n",
    "    if missing > 0:\n",
    "        print(\"{} has {} missing value(s)\".format(c, missing))\n",
    "    else:\n",
    "        print(\"{} has NO missing value(s)\".format(c, missing))"
   ]
  },
  {
   "cell_type": "code",
   "execution_count": 121,
   "id": "documented-theory",
   "metadata": {},
   "outputs": [
    {
     "data": {
      "text/plain": [
       "<AxesSubplot:>"
      ]
     },
     "execution_count": 121,
     "metadata": {},
     "output_type": "execute_result"
    },
    {
     "data": {
      "image/png": "[encoded data removed]",
      "text/plain": [
       "<Figure size 432x288 with 2 Axes>"
      ]
     },
     "metadata": {
      "needs_background": "light"
     },
     "output_type": "display_data"
    }
   ],
   "source": [
    "# Create a correlation heatmap of the dataframe\n",
    "# Identify any multicollinearity\n",
    "\n",
    "sns.heatmap(df.corr())"
   ]
  },
  {
   "cell_type": "code",
   "execution_count": 122,
   "id": "moving-transport",
   "metadata": {},
   "outputs": [],
   "source": [
    "# Subset the dataframe with the variables of focus\n",
    "\n",
    "df1 = df[['FIRE_YEAR', 'DISCOVERY_DATE', 'DISCOVERY_DOY', 'STAT_CAUSE_CODE',\n",
    "         'STAT_CAUSE_DESCR', 'FIRE_SIZE',\n",
    "         'FIRE_SIZE_CLASS', 'LATITUDE', 'LONGITUDE', 'STATE', 'COUNTY']]"
   ]
  },
  {
   "cell_type": "code",
   "execution_count": 123,
   "id": "renewable-latest",
   "metadata": {},
   "outputs": [
    {
     "data": {
      "text/html": [
       "<div>\n",
       "<style scoped>\n",
       "    .dataframe tbody tr th:only-of-type {\n",
       "        vertical-align: middle;\n",
       "    }\n",
       "\n",
       "    .dataframe tbody tr th {\n",
       "        vertical-align: top;\n",
       "    }\n",
       "\n",
       "    .dataframe thead th {\n",
       "        text-align: right;\n",
       "    }\n",
       "</style>\n",
       "<table border=\"1\" class=\"dataframe\">\n",
       "  <thead>\n",
       "    <tr style=\"text-align: right;\">\n",
       "      <th></th>\n",
       "      <th>FIRE_YEAR</th>\n",
       "      <th>DISCOVERY_DATE</th>\n",
       "      <th>DISCOVERY_DOY</th>\n",
       "      <th>STAT_CAUSE_CODE</th>\n",
       "      <th>STAT_CAUSE_DESCR</th>\n",
       "      <th>FIRE_SIZE</th>\n",
       "      <th>FIRE_SIZE_CLASS</th>\n",
       "      <th>LATITUDE</th>\n",
       "      <th>LONGITUDE</th>\n",
       "      <th>STATE</th>\n",
       "      <th>COUNTY</th>\n",
       "    </tr>\n",
       "  </thead>\n",
       "  <tbody>\n",
       "    <tr>\n",
       "      <th>0</th>\n",
       "      <td>2005</td>\n",
       "      <td>2453403.5</td>\n",
       "      <td>33</td>\n",
       "      <td>9.0</td>\n",
       "      <td>Miscellaneous</td>\n",
       "      <td>0.10</td>\n",
       "      <td>A</td>\n",
       "      <td>40.036944</td>\n",
       "      <td>-121.005833</td>\n",
       "      <td>CA</td>\n",
       "      <td>63</td>\n",
       "    </tr>\n",
       "    <tr>\n",
       "      <th>1</th>\n",
       "      <td>2004</td>\n",
       "      <td>2453137.5</td>\n",
       "      <td>133</td>\n",
       "      <td>1.0</td>\n",
       "      <td>Lightning</td>\n",
       "      <td>0.25</td>\n",
       "      <td>A</td>\n",
       "      <td>38.933056</td>\n",
       "      <td>-120.404444</td>\n",
       "      <td>CA</td>\n",
       "      <td>61</td>\n",
       "    </tr>\n",
       "    <tr>\n",
       "      <th>2</th>\n",
       "      <td>2004</td>\n",
       "      <td>2453156.5</td>\n",
       "      <td>152</td>\n",
       "      <td>5.0</td>\n",
       "      <td>Debris Burning</td>\n",
       "      <td>0.10</td>\n",
       "      <td>A</td>\n",
       "      <td>38.984167</td>\n",
       "      <td>-120.735556</td>\n",
       "      <td>CA</td>\n",
       "      <td>17</td>\n",
       "    </tr>\n",
       "    <tr>\n",
       "      <th>3</th>\n",
       "      <td>2004</td>\n",
       "      <td>2453184.5</td>\n",
       "      <td>180</td>\n",
       "      <td>1.0</td>\n",
       "      <td>Lightning</td>\n",
       "      <td>0.10</td>\n",
       "      <td>A</td>\n",
       "      <td>38.559167</td>\n",
       "      <td>-119.913333</td>\n",
       "      <td>CA</td>\n",
       "      <td>3</td>\n",
       "    </tr>\n",
       "    <tr>\n",
       "      <th>4</th>\n",
       "      <td>2004</td>\n",
       "      <td>2453184.5</td>\n",
       "      <td>180</td>\n",
       "      <td>1.0</td>\n",
       "      <td>Lightning</td>\n",
       "      <td>0.10</td>\n",
       "      <td>A</td>\n",
       "      <td>38.559167</td>\n",
       "      <td>-119.933056</td>\n",
       "      <td>CA</td>\n",
       "      <td>3</td>\n",
       "    </tr>\n",
       "  </tbody>\n",
       "</table>\n",
       "</div>"
      ],
      "text/plain": [
       "   FIRE_YEAR  DISCOVERY_DATE  DISCOVERY_DOY  STAT_CAUSE_CODE STAT_CAUSE_DESCR  \\\n",
       "0       2005       2453403.5             33              9.0    Miscellaneous   \n",
       "1       2004       2453137.5            133              1.0        Lightning   \n",
       "2       2004       2453156.5            152              5.0   Debris Burning   \n",
       "3       2004       2453184.5            180              1.0        Lightning   \n",
       "4       2004       2453184.5            180              1.0        Lightning   \n",
       "\n",
       "   FIRE_SIZE FIRE_SIZE_CLASS   LATITUDE   LONGITUDE STATE COUNTY  \n",
       "0       0.10               A  40.036944 -121.005833    CA     63  \n",
       "1       0.25               A  38.933056 -120.404444    CA     61  \n",
       "2       0.10               A  38.984167 -120.735556    CA     17  \n",
       "3       0.10               A  38.559167 -119.913333    CA      3  \n",
       "4       0.10               A  38.559167 -119.933056    CA      3  "
      ]
     },
     "execution_count": 123,
     "metadata": {},
     "output_type": "execute_result"
    }
   ],
   "source": [
    "# Confirm\n",
    "\n",
    "df1.head()"
   ]
  },
  {
   "cell_type": "code",
   "execution_count": 124,
   "id": "buried-illness",
   "metadata": {},
   "outputs": [
    {
     "data": {
      "text/plain": [
       "(1880465, 11)"
      ]
     },
     "execution_count": 124,
     "metadata": {},
     "output_type": "execute_result"
    }
   ],
   "source": [
    "# Check how many rows and columns\n",
    "\n",
    "df1.shape"
   ]
  },
  {
   "cell_type": "code",
   "execution_count": 125,
   "id": "passive-military",
   "metadata": {},
   "outputs": [
    {
     "data": {
      "text/plain": [
       "<AxesSubplot:>"
      ]
     },
     "execution_count": 125,
     "metadata": {},
     "output_type": "execute_result"
    },
    {
     "data": {
      "image/png": "[encoded data removed]",
      "text/plain": [
       "<Figure size 432x288 with 2 Axes>"
      ]
     },
     "metadata": {
      "needs_background": "light"
     },
     "output_type": "display_data"
    }
   ],
   "source": [
    "# Create a correlation heatmap of the new dataframe\n",
    "\n",
    "sns.heatmap(df1.corr())"
   ]
  },
  {
   "cell_type": "code",
   "execution_count": 126,
   "id": "representative-ethernet",
   "metadata": {},
   "outputs": [
    {
     "name": "stdout",
     "output_type": "stream",
     "text": [
      "FIRE_YEAR has NO missing value(s)\n",
      "DISCOVERY_DATE has NO missing value(s)\n",
      "DISCOVERY_DOY has NO missing value(s)\n",
      "STAT_CAUSE_CODE has NO missing value(s)\n",
      "STAT_CAUSE_DESCR has NO missing value(s)\n",
      "FIRE_SIZE has NO missing value(s)\n",
      "FIRE_SIZE_CLASS has NO missing value(s)\n",
      "LATITUDE has NO missing value(s)\n",
      "LONGITUDE has NO missing value(s)\n",
      "STATE has NO missing value(s)\n",
      "COUNTY has 678148 missing value(s)\n"
     ]
    }
   ],
   "source": [
    "# Check for variables that have missing values.\n",
    "\n",
    "for c in df1.columns:\n",
    "    missing = df1[c].isnull().sum()\n",
    "    if missing > 0:\n",
    "        print(\"{} has {} missing value(s)\".format(c, missing))\n",
    "    else:\n",
    "        print(\"{} has NO missing value(s)\".format(c, missing))"
   ]
  },
  {
   "cell_type": "code",
   "execution_count": 127,
   "id": "visible-apple",
   "metadata": {},
   "outputs": [],
   "source": [
    "# Create a subset with fire sizes larger than 500 acres\n",
    "# Create a dataframe with fire sizes grouped by their cause\n",
    "\n",
    "big_fires = df1[df1['FIRE_SIZE']>500]\n",
    "\n",
    "big_fire_count = pd.DataFrame(\n",
    "    big_fires.groupby(['STAT_CAUSE_DESCR']).FIRE_SIZE.count().sort_values(ascending=False)).reset_index()"
   ]
  },
  {
   "cell_type": "code",
   "execution_count": 128,
   "id": "ruled-wallace",
   "metadata": {},
   "outputs": [
    {
     "data": {
      "text/plain": [
       "Text(0, 0.5, 'Cause of Fires')"
      ]
     },
     "execution_count": 128,
     "metadata": {},
     "output_type": "execute_result"
    },
    {
     "data": {
      "image/png": "[encoded data removed]",
      "text/plain": [
       "<Figure size 432x288 with 1 Axes>"
      ]
     },
     "metadata": {
      "needs_background": "light"
     },
     "output_type": "display_data"
    }
   ],
   "source": [
    "# horizontal bar chart of fire size grouped by cause\n",
    "\n",
    "plt.barh(big_fire_count['STAT_CAUSE_DESCR'], big_fire_count['FIRE_SIZE'])\n",
    "plt.title('Fire Count by Cause')\n",
    "plt.xlabel('Fire Count')\n",
    "plt.ylabel('Cause of Fires')"
   ]
  },
  {
   "cell_type": "code",
   "execution_count": 129,
   "id": "advance-council",
   "metadata": {},
   "outputs": [],
   "source": [
    "# Create a dataframe with fire sizes grouped by year of fire \n",
    "# (still focusing on fires larger than 500 acres)\n",
    "\n",
    "sum_acres = pd.DataFrame(df1.groupby(['FIRE_YEAR']).FIRE_SIZE.sum().reset_index())"
   ]
  },
  {
   "cell_type": "code",
   "execution_count": 130,
   "id": "rational-pointer",
   "metadata": {},
   "outputs": [
    {
     "data": {
      "text/plain": [
       "Text(0, 0.5, 'Total Acres')"
      ]
     },
     "execution_count": 130,
     "metadata": {},
     "output_type": "execute_result"
    },
    {
     "data": {
      "image/png": "[encoded data removed]",
      "text/plain": [
       "<Figure size 432x288 with 1 Axes>"
      ]
     },
     "metadata": {
      "needs_background": "light"
     },
     "output_type": "display_data"
    }
   ],
   "source": [
    "# Line plot of acres burned by year\n",
    "\n",
    "plt.plot(sum_acres['FIRE_YEAR'], sum_acres['FIRE_SIZE'])\n",
    "plt.title('Acres Burned by Year')\n",
    "plt.xlabel('Year')\n",
    "plt.ylabel('Total Acres')"
   ]
  },
  {
   "cell_type": "code",
   "execution_count": 134,
   "id": "scientific-shepherd",
   "metadata": {},
   "outputs": [],
   "source": [
    "# Dataframe of count of fires grouped by year\n",
    "\n",
    "all_fire_count = pd.DataFrame(df1.groupby(['FIRE_YEAR']).FIRE_SIZE.count().reset_index())"
   ]
  },
  {
   "cell_type": "code",
   "execution_count": 136,
   "id": "christian-potato",
   "metadata": {},
   "outputs": [
    {
     "data": {
      "text/plain": [
       "Text(0, 0.5, 'Fire Count')"
      ]
     },
     "execution_count": 136,
     "metadata": {},
     "output_type": "execute_result"
    },
    {
     "data": {
      "image/png": "[encoded data removed]",
      "text/plain": [
       "<Figure size 432x288 with 1 Axes>"
      ]
     },
     "metadata": {
      "needs_background": "light"
     },
     "output_type": "display_data"
    }
   ],
   "source": [
    "# Line plot of count of fires by year\n",
    "\n",
    "plt.plot(all_fire_count['FIRE_YEAR'], all_fire_count['FIRE_SIZE'])\n",
    "plt.title('Count of All Fires by Year')\n",
    "plt.xlabel('Year')\n",
    "plt.ylabel('Fire Count')"
   ]
  },
  {
   "cell_type": "code",
   "execution_count": 137,
   "id": "dramatic-validation",
   "metadata": {},
   "outputs": [],
   "source": [
    "# Dataframe of how many fires in each fire size class\n",
    "\n",
    "fire_by_class = pd.DataFrame(df1.groupby(['FIRE_SIZE_CLASS']).FIRE_SIZE.count().reset_index())"
   ]
  },
  {
   "cell_type": "code",
   "execution_count": 138,
   "id": "drawn-fraud",
   "metadata": {
    "scrolled": true
   },
   "outputs": [
    {
     "data": {
      "text/plain": [
       "Text(0, 0.5, 'Fire Count')"
      ]
     },
     "execution_count": 138,
     "metadata": {},
     "output_type": "execute_result"
    },
    {
     "data": {
      "image/png": "[encoded data removed]",
      "text/plain": [
       "<Figure size 432x288 with 1 Axes>"
      ]
     },
     "metadata": {
      "needs_background": "light"
     },
     "output_type": "display_data"
    }
   ],
   "source": [
    "# Fires per Size Class bar plot\n",
    "\n",
    "plt.bar(fire_by_class['FIRE_SIZE_CLASS'], fire_by_class['FIRE_SIZE'])\n",
    "plt.title('Count of Fires by Size Class')\n",
    "plt.xlabel('Class of Fire Size')\n",
    "plt.ylabel('Fire Count')"
   ]
  },
  {
   "cell_type": "code",
   "execution_count": 139,
   "id": "homeless-channels",
   "metadata": {},
   "outputs": [],
   "source": [
    "# Count of fires by state\n",
    "\n",
    "fire_by_state = pd.DataFrame(df1.groupby(['STATE']).FIRE_SIZE.count().reset_index())"
   ]
  },
  {
   "cell_type": "code",
   "execution_count": 140,
   "id": "affiliated-catalyst",
   "metadata": {},
   "outputs": [
    {
     "data": {
      "text/html": [
       "<div>\n",
       "<style scoped>\n",
       "    .dataframe tbody tr th:only-of-type {\n",
       "        vertical-align: middle;\n",
       "    }\n",
       "\n",
       "    .dataframe tbody tr th {\n",
       "        vertical-align: top;\n",
       "    }\n",
       "\n",
       "    .dataframe thead th {\n",
       "        text-align: right;\n",
       "    }\n",
       "</style>\n",
       "<table border=\"1\" class=\"dataframe\">\n",
       "  <thead>\n",
       "    <tr style=\"text-align: right;\">\n",
       "      <th></th>\n",
       "      <th>STATE</th>\n",
       "      <th>FIRE_SIZE</th>\n",
       "    </tr>\n",
       "  </thead>\n",
       "  <tbody>\n",
       "    <tr>\n",
       "      <th>0</th>\n",
       "      <td>AK</td>\n",
       "      <td>12843</td>\n",
       "    </tr>\n",
       "    <tr>\n",
       "      <th>1</th>\n",
       "      <td>AL</td>\n",
       "      <td>66570</td>\n",
       "    </tr>\n",
       "    <tr>\n",
       "      <th>2</th>\n",
       "      <td>AR</td>\n",
       "      <td>31663</td>\n",
       "    </tr>\n",
       "    <tr>\n",
       "      <th>3</th>\n",
       "      <td>AZ</td>\n",
       "      <td>71586</td>\n",
       "    </tr>\n",
       "    <tr>\n",
       "      <th>4</th>\n",
       "      <td>CA</td>\n",
       "      <td>189550</td>\n",
       "    </tr>\n",
       "  </tbody>\n",
       "</table>\n",
       "</div>"
      ],
      "text/plain": [
       "  STATE  FIRE_SIZE\n",
       "0    AK      12843\n",
       "1    AL      66570\n",
       "2    AR      31663\n",
       "3    AZ      71586\n",
       "4    CA     189550"
      ]
     },
     "execution_count": 140,
     "metadata": {},
     "output_type": "execute_result"
    }
   ],
   "source": [
    "# A look at the dataframe\n",
    "\n",
    "fire_by_state.head()"
   ]
  },
  {
   "cell_type": "code",
   "execution_count": 141,
   "id": "exposed-gardening",
   "metadata": {
    "scrolled": true
   },
   "outputs": [],
   "source": [
    "# Treemap of number of fires by state\n",
    "# Exported to PDF \n",
    "\n",
    "fig = px.treemap(fire_by_state, path = ['STATE'], values = 'FIRE_SIZE', title = 'Forest Fires by State')\n",
    "fig.write_image(\"images/treemap.pdf\")"
   ]
  },
  {
   "cell_type": "markdown",
   "id": "naval-cylinder",
   "metadata": {},
   "source": [
    "### Modeling"
   ]
  },
  {
   "cell_type": "code",
   "execution_count": 236,
   "id": "parallel-certification",
   "metadata": {},
   "outputs": [],
   "source": [
    "# As we know that fire size and fire size class are dependent, as well as state and county,\n",
    "# cause code and cause, some of these variables can be removed\n",
    "\n",
    "df2 = df1[['FIRE_YEAR', 'STAT_CAUSE_CODE', 'FIRE_SIZE_CLASS', 'LATITUDE', 'LONGITUDE']]"
   ]
  },
  {
   "cell_type": "code",
   "execution_count": 237,
   "id": "broke-grace",
   "metadata": {},
   "outputs": [
    {
     "data": {
      "text/html": [
       "<div>\n",
       "<style scoped>\n",
       "    .dataframe tbody tr th:only-of-type {\n",
       "        vertical-align: middle;\n",
       "    }\n",
       "\n",
       "    .dataframe tbody tr th {\n",
       "        vertical-align: top;\n",
       "    }\n",
       "\n",
       "    .dataframe thead th {\n",
       "        text-align: right;\n",
       "    }\n",
       "</style>\n",
       "<table border=\"1\" class=\"dataframe\">\n",
       "  <thead>\n",
       "    <tr style=\"text-align: right;\">\n",
       "      <th></th>\n",
       "      <th>FIRE_YEAR</th>\n",
       "      <th>STAT_CAUSE_CODE</th>\n",
       "      <th>FIRE_SIZE_CLASS</th>\n",
       "      <th>LATITUDE</th>\n",
       "      <th>LONGITUDE</th>\n",
       "    </tr>\n",
       "  </thead>\n",
       "  <tbody>\n",
       "    <tr>\n",
       "      <th>0</th>\n",
       "      <td>2005</td>\n",
       "      <td>9.0</td>\n",
       "      <td>A</td>\n",
       "      <td>40.036944</td>\n",
       "      <td>-121.005833</td>\n",
       "    </tr>\n",
       "    <tr>\n",
       "      <th>1</th>\n",
       "      <td>2004</td>\n",
       "      <td>1.0</td>\n",
       "      <td>A</td>\n",
       "      <td>38.933056</td>\n",
       "      <td>-120.404444</td>\n",
       "    </tr>\n",
       "    <tr>\n",
       "      <th>2</th>\n",
       "      <td>2004</td>\n",
       "      <td>5.0</td>\n",
       "      <td>A</td>\n",
       "      <td>38.984167</td>\n",
       "      <td>-120.735556</td>\n",
       "    </tr>\n",
       "    <tr>\n",
       "      <th>3</th>\n",
       "      <td>2004</td>\n",
       "      <td>1.0</td>\n",
       "      <td>A</td>\n",
       "      <td>38.559167</td>\n",
       "      <td>-119.913333</td>\n",
       "    </tr>\n",
       "    <tr>\n",
       "      <th>4</th>\n",
       "      <td>2004</td>\n",
       "      <td>1.0</td>\n",
       "      <td>A</td>\n",
       "      <td>38.559167</td>\n",
       "      <td>-119.933056</td>\n",
       "    </tr>\n",
       "  </tbody>\n",
       "</table>\n",
       "</div>"
      ],
      "text/plain": [
       "   FIRE_YEAR  STAT_CAUSE_CODE FIRE_SIZE_CLASS   LATITUDE   LONGITUDE\n",
       "0       2005              9.0               A  40.036944 -121.005833\n",
       "1       2004              1.0               A  38.933056 -120.404444\n",
       "2       2004              5.0               A  38.984167 -120.735556\n",
       "3       2004              1.0               A  38.559167 -119.913333\n",
       "4       2004              1.0               A  38.559167 -119.933056"
      ]
     },
     "execution_count": 237,
     "metadata": {},
     "output_type": "execute_result"
    }
   ],
   "source": [
    "df2.head()"
   ]
  },
  {
   "cell_type": "code",
   "execution_count": 238,
   "id": "integral-restaurant",
   "metadata": {},
   "outputs": [
    {
     "name": "stdout",
     "output_type": "stream",
     "text": [
      "Index(['A', 'B', 'G', 'C', 'D', 'F', 'E'], dtype='object')\n"
     ]
    },
    {
     "name": "stderr",
     "output_type": "stream",
     "text": [
      "C:\\Users\\17742\\AppData\\Roaming\\Python\\Python37\\site-packages\\ipykernel_launcher.py:2: SettingWithCopyWarning:\n",
      "\n",
      "\n",
      "A value is trying to be set on a copy of a slice from a DataFrame.\n",
      "Try using .loc[row_indexer,col_indexer] = value instead\n",
      "\n",
      "See the caveats in the documentation: https://pandas.pydata.org/pandas-docs/stable/user_guide/indexing.html#returning-a-view-versus-a-copy\n",
      "\n"
     ]
    }
   ],
   "source": [
    "factor = pd.factorize(df2['FIRE_SIZE_CLASS'])\n",
    "df2['FIRE_SIZE_CLASS'] = factor[0]\n",
    "definitions = factor[1]\n",
    "df2['FIRE_SIZE_CLASS'].head()\n",
    "print(definitions)"
   ]
  },
  {
   "cell_type": "code",
   "execution_count": 239,
   "id": "adjacent-photograph",
   "metadata": {},
   "outputs": [],
   "source": [
    "x = df2[['FIRE_YEAR', 'STAT_CAUSE_CODE', 'LATITUDE', 'LONGITUDE']].values"
   ]
  },
  {
   "cell_type": "code",
   "execution_count": 241,
   "id": "deluxe-therapist",
   "metadata": {},
   "outputs": [],
   "source": [
    "y = df2['FIRE_SIZE_CLASS'].values"
   ]
  },
  {
   "cell_type": "code",
   "execution_count": 244,
   "id": "instant-carrier",
   "metadata": {},
   "outputs": [],
   "source": [
    "X_train, X_test, y_train, y_test = train_test_split(x, y, test_size = 0.25, stratify=y, random_state = 21)"
   ]
  },
  {
   "cell_type": "code",
   "execution_count": 245,
   "id": "usual-fantasy",
   "metadata": {},
   "outputs": [],
   "source": [
    "# Feature Scaling\n",
    "\n",
    "scaler = StandardScaler()\n",
    "X_train = scaler.fit_transform(X_train)\n",
    "X_test = scaler.transform(X_test)"
   ]
  },
  {
   "cell_type": "markdown",
   "id": "functioning-spray",
   "metadata": {},
   "source": [
    "#### Random Forest Classification"
   ]
  },
  {
   "cell_type": "code",
   "execution_count": 246,
   "id": "pregnant-blind",
   "metadata": {},
   "outputs": [
    {
     "data": {
      "text/plain": [
       "RandomForestClassifier(criterion='entropy', n_estimators=10, random_state=42)"
      ]
     },
     "execution_count": 246,
     "metadata": {},
     "output_type": "execute_result"
    }
   ],
   "source": [
    "# Fitting Random Forest Classification to the Training set\n",
    "\n",
    "classifier = RandomForestClassifier(n_estimators = 10, criterion = 'entropy', random_state = 42)\n",
    "classifier.fit(X_train, y_train)"
   ]
  },
  {
   "cell_type": "code",
   "execution_count": 247,
   "id": "cultural-classification",
   "metadata": {},
   "outputs": [
    {
     "name": "stdout",
     "output_type": "stream",
     "text": [
      "Predicted Fire Class       A       B      C    D    E    F    G\n",
      "Actual Fire Class                                              \n",
      "A                     111797   51022   3283  304  163  113   48\n",
      "B                      58404  158849  15908  956  435  189  103\n",
      "C                       7507   35176  10979  848  316  124   69\n",
      "D                       1274    3522   1635  395  161   84   36\n",
      "E                        804    1516    687  222  161   96   41\n",
      "F                        553     707    323   95  103   93   73\n",
      "G                        311     329    119   35   29   49   71\n"
     ]
    }
   ],
   "source": [
    "# Predicting the Test set results\n",
    "\n",
    "y_pred = classifier.predict(X_test)\n",
    "\n",
    "#Reverse factorize (converting y_pred to 7 fire class categories\n",
    "\n",
    "reversefactor = dict(zip(range(7),definitions))\n",
    "y_test = np.vectorize(reversefactor.get)(y_test)\n",
    "y_pred = np.vectorize(reversefactor.get)(y_pred)\n",
    "\n",
    "# Making the Confusion Matrix\n",
    "\n",
    "print(pd.crosstab(y_test, y_pred, rownames=['Actual Fire Class'], colnames=['Predicted Fire Class']))"
   ]
  },
  {
   "cell_type": "code",
   "execution_count": 248,
   "id": "negative-attack",
   "metadata": {},
   "outputs": [
    {
     "data": {
      "text/plain": [
       "array([[111797,  51022,   3283,    304,    163,    113,     48],\n",
       "       [ 58404, 158849,  15908,    956,    435,    189,    103],\n",
       "       [  7507,  35176,  10979,    848,    316,    124,     69],\n",
       "       [  1274,   3522,   1635,    395,    161,     84,     36],\n",
       "       [   804,   1516,    687,    222,    161,     96,     41],\n",
       "       [   553,    707,    323,     95,    103,     93,     73],\n",
       "       [   311,    329,    119,     35,     29,     49,     71]],\n",
       "      dtype=int64)"
      ]
     },
     "execution_count": 248,
     "metadata": {},
     "output_type": "execute_result"
    }
   ],
   "source": [
    "confusion_matrix(y_test, y_pred)"
   ]
  },
  {
   "cell_type": "code",
   "execution_count": 249,
   "id": "corrected-sewing",
   "metadata": {},
   "outputs": [
    {
     "data": {
      "image/png": "[encoded data removed]",
      "text/plain": [
       "<Figure size 1152x504 with 2 Axes>"
      ]
     },
     "metadata": {},
     "output_type": "display_data"
    }
   ],
   "source": [
    "matrix = confusion_matrix(y_test, y_pred)\n",
    "matrix = matrix.astype('float') / matrix.sum(axis=1)[:, np.newaxis]\n",
    "\n",
    "# Build the plot\n",
    "plt.figure(figsize=(16,7))\n",
    "sns.set(font_scale=1.4)\n",
    "sns.heatmap(matrix, annot=True, annot_kws={'size':10},\n",
    "            cmap=plt.cm.Greens, linewidths=0.2)\n",
    "\n",
    "# Add labels to the plot\n",
    "class_names = ['A', 'B', 'C', \n",
    "               'D', 'E', 'F',    \n",
    "               'G']\n",
    "tick_marks = np.arange(len(class_names))\n",
    "tick_marks2 = tick_marks + 0.5\n",
    "plt.xticks(tick_marks, class_names, rotation=25)\n",
    "plt.yticks(tick_marks2, class_names, rotation=0)\n",
    "plt.xlabel('Predicted Fire Class')\n",
    "plt.ylabel('Actual Fire Class')\n",
    "plt.title('Confusion Matrix for Random Forest Model')\n",
    "plt.show()"
   ]
  },
  {
   "cell_type": "code",
   "execution_count": 250,
   "id": "weekly-proxy",
   "metadata": {},
   "outputs": [
    {
     "name": "stdout",
     "output_type": "stream",
     "text": [
      "              precision    recall  f1-score   support\n",
      "\n",
      "           A       0.62      0.67      0.64    166730\n",
      "           B       0.63      0.68      0.65    234844\n",
      "           C       0.33      0.20      0.25     55019\n",
      "           D       0.14      0.06      0.08      7107\n",
      "           E       0.12      0.05      0.07      3527\n",
      "           F       0.12      0.05      0.07      1947\n",
      "           G       0.16      0.08      0.10       943\n",
      "\n",
      "    accuracy                           0.60    470117\n",
      "   macro avg       0.30      0.25      0.27    470117\n",
      "weighted avg       0.58      0.60      0.59    470117\n",
      "\n"
     ]
    }
   ],
   "source": [
    "print(classification_report(y_test, y_pred))"
   ]
  },
  {
   "cell_type": "markdown",
   "id": "described-opposition",
   "metadata": {},
   "source": [
    "#### K Nearest Neighbor Classification"
   ]
  },
  {
   "cell_type": "code",
   "execution_count": 284,
   "id": "changed-frank",
   "metadata": {},
   "outputs": [],
   "source": [
    "knn = KNeighborsClassifier(n_neighbors=15)"
   ]
  },
  {
   "cell_type": "code",
   "execution_count": 285,
   "id": "powered-accordance",
   "metadata": {},
   "outputs": [],
   "source": [
    "X_train, X_test, y_train, y_test = train_test_split(x, y, test_size = 0.25, stratify=y, random_state = 21)"
   ]
  },
  {
   "cell_type": "code",
   "execution_count": 286,
   "id": "sitting-allocation",
   "metadata": {},
   "outputs": [
    {
     "data": {
      "text/plain": [
       "KNeighborsClassifier(n_neighbors=15)"
      ]
     },
     "execution_count": 286,
     "metadata": {},
     "output_type": "execute_result"
    }
   ],
   "source": [
    "knn.fit(X_train, y_train)"
   ]
  },
  {
   "cell_type": "code",
   "execution_count": 287,
   "id": "extraordinary-production",
   "metadata": {},
   "outputs": [
    {
     "name": "stdout",
     "output_type": "stream",
     "text": [
      "[1 0 0 ... 1 1 0]\n",
      "0.6215665462002012\n"
     ]
    }
   ],
   "source": [
    "# Predict on dataset which model has not seen before\n",
    "print(knn.predict(X_test))\n",
    "# Calculate the accuracy of the model\n",
    "print(knn.score(X_test, y_test))"
   ]
  },
  {
   "cell_type": "code",
   "execution_count": 288,
   "id": "coordinated-november",
   "metadata": {},
   "outputs": [
    {
     "data": {
      "image/png": "[encoded data removed]",
      "text/plain": [
       "<Figure size 432x288 with 1 Axes>"
      ]
     },
     "metadata": {},
     "output_type": "display_data"
    }
   ],
   "source": [
    "neighbors = np.arange(1, 16)\n",
    "train_accuracy = np.empty(len(neighbors))\n",
    "test_accuracy = np.empty(len(neighbors))\n",
    " \n",
    "# Loop over K values\n",
    "\n",
    "for i, k in enumerate(neighbors):\n",
    "    knn = KNeighborsClassifier(n_neighbors=k)\n",
    "    knn.fit(X_train, y_train)\n",
    "     \n",
    "    # Compute training and test data accuracy\n",
    "    \n",
    "    train_accuracy[i] = knn.score(X_train, y_train)\n",
    "    test_accuracy[i] = knn.score(X_test, y_test)\n",
    "\n",
    "# Generate plot\n",
    "\n",
    "plt.plot(neighbors, test_accuracy, label = 'Testing dataset Accuracy')\n",
    "plt.plot(neighbors, train_accuracy, label = 'Training dataset Accuracy')\n",
    " \n",
    "plt.legend()\n",
    "plt.xlabel('n_neighbors')\n",
    "plt.ylabel('Accuracy')\n",
    "plt.show()"
   ]
  },
  {
   "cell_type": "markdown",
   "id": "cubic-match",
   "metadata": {},
   "source": [
    "#### Gradient Boosting Classification"
   ]
  },
  {
   "cell_type": "code",
   "execution_count": 274,
   "id": "christian-highway",
   "metadata": {},
   "outputs": [],
   "source": [
    "x = df2[['FIRE_YEAR', 'STAT_CAUSE_CODE', 'LATITUDE', 'LONGITUDE']].values"
   ]
  },
  {
   "cell_type": "code",
   "execution_count": 275,
   "id": "mysterious-literacy",
   "metadata": {},
   "outputs": [],
   "source": [
    "y = df2['FIRE_SIZE_CLASS'].values"
   ]
  },
  {
   "cell_type": "code",
   "execution_count": 281,
   "id": "objective-small",
   "metadata": {},
   "outputs": [],
   "source": [
    "kf = KFold(n_splits=10,random_state=42,shuffle=True)\n",
    "for train_index,val_index in kf.split(x):\n",
    "    X_train,X_val = x[train_index],x[val_index],\n",
    "    y_train,y_val = y[train_index],y[val_index]"
   ]
  },
  {
   "cell_type": "code",
   "execution_count": 282,
   "id": "minus-habitat",
   "metadata": {},
   "outputs": [
    {
     "data": {
      "text/plain": [
       "{'ccp_alpha': 0.0,\n",
       " 'criterion': 'friedman_mse',\n",
       " 'init': None,\n",
       " 'learning_rate': 0.1,\n",
       " 'loss': 'deviance',\n",
       " 'max_depth': 3,\n",
       " 'max_features': None,\n",
       " 'max_leaf_nodes': None,\n",
       " 'min_impurity_decrease': 0.0,\n",
       " 'min_impurity_split': None,\n",
       " 'min_samples_leaf': 1,\n",
       " 'min_samples_split': 2,\n",
       " 'min_weight_fraction_leaf': 0.0,\n",
       " 'n_estimators': 100,\n",
       " 'n_iter_no_change': None,\n",
       " 'presort': 'deprecated',\n",
       " 'random_state': None,\n",
       " 'subsample': 1.0,\n",
       " 'tol': 0.0001,\n",
       " 'validation_fraction': 0.1,\n",
       " 'verbose': 0,\n",
       " 'warm_start': False}"
      ]
     },
     "execution_count": 282,
     "metadata": {},
     "output_type": "execute_result"
    }
   ],
   "source": [
    "gradient_booster = GradientBoostingClassifier(learning_rate=0.1)\n",
    "gradient_booster.get_params()"
   ]
  },
  {
   "cell_type": "code",
   "execution_count": 283,
   "id": "metallic-damages",
   "metadata": {},
   "outputs": [
    {
     "name": "stdout",
     "output_type": "stream",
     "text": [
      "              precision    recall  f1-score   support\n",
      "\n",
      "           0       0.62      0.60      0.61     66758\n",
      "           1       0.60      0.79      0.68     93910\n",
      "           2       0.38      0.06      0.11       382\n",
      "           3       0.32      0.00      0.00     21997\n",
      "           4       0.00      0.00      0.00      2845\n",
      "           5       0.13      0.00      0.01       775\n",
      "           6       1.00      0.00      0.00      1379\n",
      "\n",
      "    accuracy                           0.61    188046\n",
      "   macro avg       0.44      0.21      0.20    188046\n",
      "weighted avg       0.57      0.61      0.56    188046\n",
      "\n"
     ]
    }
   ],
   "source": [
    "gradient_booster.fit(X_train,y_train)\n",
    "print(classification_report(y_val,gradient_booster.predict(X_val)))"
   ]
  }
 ],
 "metadata": {
  "kernelspec": {
   "display_name": "Python 3",
   "language": "python",
   "name": "python3"
  },
  "language_info": {
   "codemirror_mode": {
    "name": "ipython",
    "version": 3
   },
   "file_extension": ".py",
   "mimetype": "text/x-python",
   "name": "python",
   "nbconvert_exporter": "python",
   "pygments_lexer": "ipython3",
   "version": "3.7.7"
  }
 },
 "nbformat": 4,
 "nbformat_minor": 5
}
